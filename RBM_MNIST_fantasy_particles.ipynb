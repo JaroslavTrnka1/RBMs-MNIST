{
 "cells": [
  {
   "cell_type": "code",
   "execution_count": 1,
   "metadata": {},
   "outputs": [],
   "source": [
    "import tensorflow as tf\n",
    "import numpy as np\n",
    "import tensorflow.keras.layers as tfl\n",
    "import matplotlib.pyplot as plt\n",
    "from PIL import Image as im"
   ]
  },
  {
   "cell_type": "code",
   "execution_count": 2,
   "metadata": {},
   "outputs": [],
   "source": [
    "(x_train, y_train), (x_test, y_test) = tf.keras.datasets.mnist.load_data()"
   ]
  },
  {
   "cell_type": "code",
   "execution_count": 3,
   "metadata": {},
   "outputs": [
    {
     "name": "stdout",
     "output_type": "stream",
     "text": [
      "(60000, 784)\n",
      "(10000, 784)\n"
     ]
    }
   ],
   "source": [
    "x_train = x_train.astype('float32')/255\n",
    "x_test = x_test.astype('float32')/255\n",
    "x_train = tf.reshape(x_train, (-1, 784))\n",
    "x_test = tf.reshape(x_test, (-1, 784))\n",
    "print(x_train.shape)\n",
    "print(x_test.shape)"
   ]
  },
  {
   "cell_type": "code",
   "execution_count": 4,
   "metadata": {},
   "outputs": [
    {
     "name": "stdout",
     "output_type": "stream",
     "text": [
      "(1000, 784)\n"
     ]
    }
   ],
   "source": [
    "images_binary = (x_train > 0.2).numpy() * 1\n",
    "images_binary = images_binary[:1000,:]\n",
    "print(images_binary.shape)"
   ]
  },
  {
   "cell_type": "code",
   "execution_count": 5,
   "metadata": {},
   "outputs": [
    {
     "data": {
      "image/png": "[encoded data removed]",
      "text/plain": [
       "<Figure size 432x288 with 1 Axes>"
      ]
     },
     "metadata": {
      "needs_background": "light"
     },
     "output_type": "display_data"
    }
   ],
   "source": [
    "a = 21\n",
    "i = im.fromarray(255 * images_binary[a,:].reshape(28,28))\n",
    "plt.imshow(i)\n",
    "plt.show()"
   ]
  },
  {
   "cell_type": "code",
   "execution_count": 6,
   "metadata": {},
   "outputs": [],
   "source": [
    "def sigmoid(x):\n",
    "    return 1 / (1 + np.exp(np.clip(-x, -50, 50)))\n",
    "\n",
    "def binary_stochastic(x):\n",
    "    return (x > np.random.rand(x.shape[0], x.shape[1])) * 1\n",
    "\n",
    "def update (input_vector, weights):\n",
    "    updated = sigmoid(np.dot(weights, input_vector))\n",
    "    updated = binary_stochastic(updated)\n",
    "    return updated\n",
    "\n",
    "def contrastive_divergence (vis, num_steps, weights):\n",
    "    new_visible = vis.copy()\n",
    "    for step in range(num_steps):\n",
    "        hidden = update(new_visible, weights)\n",
    "        if step == 0:\n",
    "            data_joint_activity = hidden * vis.T\n",
    "        reconstruction = update(hidden, weights.T)\n",
    "        hidden = update(reconstruction, weights)\n",
    "        new_visible = update(hidden, weights.T)\n",
    "        if step == num_steps - 1:\n",
    "            model_joint_activity = hidden * reconstruction.T\n",
    "    return data_joint_activity, model_joint_activity, new_visible\n",
    "\n",
    "def create_fantasy_particles(num, vis):\n",
    "    \n",
    "    particles = np.random.rand(num, vis)\n",
    "    particles = (particles > 0.7) * 1\n",
    "    return particles\n",
    "    \n",
    "\n",
    "def train (input_data, n_h, epochs = 100, beta = 0.99, epsilon = 0.01, curiosity = 0.9):\n",
    "    \n",
    "    #input_data must have shape (m, n_v)\n",
    "    \n",
    "    weights = np.random.randn(n_h, input_data.shape[1]) * 0.1\n",
    "    loss = input_data.shape[1]\n",
    "    num_particles = 100\n",
    "    particles = create_fantasy_particles(num_particles, input_data.shape[1])\n",
    "    cd = 1\n",
    "    \n",
    "    for epoch in range(epochs):\n",
    "        \n",
    "        for sample in range(input_data.shape[0]):\n",
    "            data = input_data[sample, :].reshape(-1,1)\n",
    "            fantasy = particles[sample % num_particles, :].reshape(-1,1)\n",
    "            data_joint_activity, model_joint_activity, modeled_data = contrastive_divergence(data, cd, weights)\n",
    "            _, distant_model_joint_activity, new_fantasy = contrastive_divergence(fantasy, cd, weights)\n",
    "            loss = beta  * loss + (1 - beta) * np.sum(np.abs(data_joint_activity - model_joint_activity))\n",
    "            negative_phase = (1 - curiosity) * model_joint_activity + curiosity * distant_model_joint_activity\n",
    "            weights += epsilon * (data_joint_activity - negative_phase)\n",
    "            particles[sample % num_particles,:] = new_fantasy.reshape(1,-1)\n",
    "\n",
    "        if epoch % 10 == 0:\n",
    "            print(' Epoch:' + str(epoch) + '    Loss: ' + str(loss))\n",
    "            t = im.fromarray(255 * data.reshape(28,28))\n",
    "            m = im.fromarray(255 * modeled_data.reshape(28,28))\n",
    "            plt.subplot(1, 2, 1)\n",
    "            plt.imshow(t)\n",
    "            plt.subplot(1, 2, 2)\n",
    "            plt.imshow(m)\n",
    "            plt.show() \n",
    "        \n",
    "    print(' End Loss: ' + str(loss))\n",
    "    \n",
    "    return weights\n",
    "            \n",
    "\n",
    "def test (random_start, num_cd, weights):\n",
    "    \n",
    "    model = random_start.copy()\n",
    "    m = im.fromarray(255 * model.reshape(28,28))\n",
    "    plt.imshow(m)\n",
    "    plt.show()\n",
    "    \n",
    "    for i in range(num_cd):\n",
    "        _,_, model = contrastive_divergence(model, 1, weights)\n",
    "        if i % (1 + int(num_cd/10)) == 0:\n",
    "            m = im.fromarray(255 * model.reshape(28,28))\n",
    "            plt.imshow(m)\n",
    "            plt.show()"
   ]
  },
  {
   "cell_type": "code",
   "execution_count": 7,
   "metadata": {},
   "outputs": [
    {
     "name": "stdout",
     "output_type": "stream",
     "text": [
      " Epoch:0    Loss: 21775.16734317487\n"
     ]
    },
    {
     "data": {
      "image/png": "[encoded data removed]",
      "text/plain": [
       "<Figure size 432x288 with 2 Axes>"
      ]
     },
     "metadata": {
      "needs_background": "light"
     },
     "output_type": "display_data"
    },
    {
     "name": "stdout",
     "output_type": "stream",
     "text": [
      " Epoch:10    Loss: 8809.30849268599\n"
     ]
    },
    {
     "data": {
      "image/png": "[encoded data removed]",
      "text/plain": [
       "<Figure size 432x288 with 2 Axes>"
      ]
     },
     "metadata": {
      "needs_background": "light"
     },
     "output_type": "display_data"
    },
    {
     "name": "stdout",
     "output_type": "stream",
     "text": [
      " End Loss: 6890.377209231131\n"
     ]
    }
   ],
   "source": [
    "weights = train(images_binary, n_h = 1000, epochs = 20)"
   ]
  },
  {
   "cell_type": "code",
   "execution_count": 17,
   "metadata": {},
   "outputs": [
    {
     "data": {
      "image/png": "[encoded data removed]",
      "text/plain": [
       "<Figure size 432x288 with 1 Axes>"
      ]
     },
     "metadata": {
      "needs_background": "light"
     },
     "output_type": "display_data"
    },
    {
     "data": {
      "image/png": "[encoded data removed]",
      "text/plain": [
       "<Figure size 432x288 with 1 Axes>"
      ]
     },
     "metadata": {
      "needs_background": "light"
     },
     "output_type": "display_data"
    },
    {
     "data": {
      "image/png": "[encoded data removed]",
      "text/plain": [
       "<Figure size 432x288 with 1 Axes>"
      ]
     },
     "metadata": {
      "needs_background": "light"
     },
     "output_type": "display_data"
    },
    {
     "data": {
      "image/png": "[encoded data removed]",
      "text/plain": [
       "<Figure size 432x288 with 1 Axes>"
      ]
     },
     "metadata": {
      "needs_background": "light"
     },
     "output_type": "display_data"
    },
    {
     "data": {
      "image/png": "[encoded data removed]",
      "text/plain": [
       "<Figure size 432x288 with 1 Axes>"
      ]
     },
     "metadata": {
      "needs_background": "light"
     },
     "output_type": "display_data"
    },
    {
     "data": {
      "image/png": "[encoded data removed]",
      "text/plain": [
       "<Figure size 432x288 with 1 Axes>"
      ]
     },
     "metadata": {
      "needs_background": "light"
     },
     "output_type": "display_data"
    },
    {
     "data": {
      "image/png": "[encoded data removed]",
      "text/plain": [
       "<Figure size 432x288 with 1 Axes>"
      ]
     },
     "metadata": {
      "needs_background": "light"
     },
     "output_type": "display_data"
    },
    {
     "data": {
      "image/png": "[encoded data removed]",
      "text/plain": [
       "<Figure size 432x288 with 1 Axes>"
      ]
     },
     "metadata": {
      "needs_background": "light"
     },
     "output_type": "display_data"
    },
    {
     "data": {
      "image/png": "[encoded data removed]",
      "text/plain": [
       "<Figure size 432x288 with 1 Axes>"
      ]
     },
     "metadata": {
      "needs_background": "light"
     },
     "output_type": "display_data"
    },
    {
     "data": {
      "image/png": "[encoded data removed]",
      "text/plain": [
       "<Figure size 432x288 with 1 Axes>"
      ]
     },
     "metadata": {
      "needs_background": "light"
     },
     "output_type": "display_data"
    },
    {
     "data": {
      "image/png": "[encoded data removed]",
      "text/plain": [
       "<Figure size 432x288 with 1 Axes>"
      ]
     },
     "metadata": {
      "needs_background": "light"
     },
     "output_type": "display_data"
    }
   ],
   "source": [
    "# recontruction of noisy data\n",
    "# a = 74\n",
    "# test_picture = images_binary[a, :].reshape(-1,1)\n",
    "# negative_mask = np.random.randint(0, 3, size = (784,1)) - 1\n",
    "# negative_mask = (negative_mask > 0) * 1\n",
    "# test(negative_mask * test_picture, 10, weights)\n",
    "\n",
    "# reconstruction from random fantasy\n",
    "random_start = (np.random.rand(784,1) > 0.95) * 1 \n",
    "test(random_start, 200, weights)"
   ]
  },
  {
   "cell_type": "code",
   "execution_count": null,
   "metadata": {},
   "outputs": [],
   "source": []
  }
 ],
 "metadata": {
  "kernelspec": {
   "display_name": "Python 3",
   "language": "python",
   "name": "python3"
  },
  "language_info": {
   "codemirror_mode": {
    "name": "ipython",
    "version": 3
   },
   "file_extension": ".py",
   "mimetype": "text/x-python",
   "name": "python",
   "nbconvert_exporter": "python",
   "pygments_lexer": "ipython3",
   "version": "3.8.5"
  }
 },
 "nbformat": 4,
 "nbformat_minor": 4
}
